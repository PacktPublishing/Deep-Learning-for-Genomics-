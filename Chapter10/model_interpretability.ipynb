{
 "cells": [
  {
   "cell_type": "markdown",
   "metadata": {},
   "source": [
    "# CNN for TFBS predictions and model interpretability\n",
    "\n",
    "In this notebook we will how easy it is to train a CNN on DNA data contains binding sites for proteins, make predictions for Transcription Factor Binding Sites (TFBS) and extract the learned motif with a simple gradient-based method."
   ]
  },
  {
   "cell_type": "markdown",
   "metadata": {},
   "source": [
    "## Load Necessary Libraries"
   ]
  },
  {
   "cell_type": "code",
   "execution_count": 1,
   "metadata": {
    "collapsed": false
   },
   "outputs": [],
   "source": [
    "from keras.layers.convolutional import Conv1D, MaxPooling1D\n",
    "from keras.layers.core import Dense, Flatten\n",
    "from keras.models import Sequential\n",
    "from keras.callbacks import EarlyStopping, ModelCheckpoint\n",
    "import pandas as pd\n",
    "import numpy as np\n",
    "from sklearn.metrics import roc_curve, auc, average_precision_score\n",
    "from sklearn.model_selection import train_test_split\n",
    "from sklearn.preprocessing import LabelEncoder, OneHotEncoder"
   ]
  },
  {
   "cell_type": "markdown",
   "metadata": {},
   "source": [
    "## Load the sequence data"
   ]
  },
  {
   "cell_type": "code",
   "execution_count": 3,
   "metadata": {},
   "outputs": [
    {
     "name": "stdout",
     "output_type": "stream",
     "text": [
      "50\n"
     ]
    }
   ],
   "source": [
    "input_fasta_data = pd.read_table(\"sequences_mod.txt\", header=None)\n",
    "input_fasta_data.rename(columns={0: \"sequence\"}, inplace=True)\n",
    "sequence_length = len(input_fasta_data.sequence[0])\n",
    "print(sequence_length)"
   ]
  },
  {
   "cell_type": "markdown",
   "metadata": {},
   "source": [
    "## Feature extraction and OHE"
   ]
  },
  {
   "cell_type": "code",
   "execution_count": 4,
   "metadata": {},
   "outputs": [
    {
     "name": "stdout",
     "output_type": "stream",
     "text": [
      "(2000, 50, 4)\n"
     ]
    }
   ],
   "source": [
    "iec = LabelEncoder()   \n",
    "ohe = OneHotEncoder(categories='auto')    \n",
    "seq_matrix = [] \n",
    "for sequence in input_fasta_data.sequence: \n",
    "  iecd = iec.fit_transform(list(sequence)) \n",
    "  iecd = np.array(iecd).reshape(-1, 1) \n",
    "  ohed = ohe.fit_transform(iecd)\n",
    "  seq_matrix.append(ohed.toarray())\n",
    "seq_matrix = np.stack(seq_matrix)\n",
    "print(seq_matrix.shape)"
   ]
  },
  {
   "cell_type": "markdown",
   "metadata": {},
   "source": [
    "## Target labels"
   ]
  },
  {
   "cell_type": "code",
   "execution_count": 6,
   "metadata": {},
   "outputs": [
    {
     "name": "stdout",
     "output_type": "stream",
     "text": [
      "(2000,)\n"
     ]
    }
   ],
   "source": [
    "labels = pd.read_csv('labels.txt')\n",
    "Y = np.array(labels).reshape(-1) \n",
    "print(Y.shape)\n"
   ]
  },
  {
   "cell_type": "markdown",
   "metadata": {},
   "source": [
    "### Distribution of Positive and Negative samples"
   ]
  },
  {
   "cell_type": "code",
   "execution_count": 7,
   "metadata": {},
   "outputs": [
    {
     "name": "stdout",
     "output_type": "stream",
     "text": [
      "0    1013\n",
      "1     987\n",
      "dtype: int64\n"
     ]
    }
   ],
   "source": [
    "print(pd.DataFrame(Y).value_counts())"
   ]
  },
  {
   "cell_type": "markdown",
   "metadata": {},
   "source": [
    "# Train-test split\n",
    "Before we train the model, let’s split the dataset into training and test datasets so that we can use\n",
    "training data for model training and test data for model evaluation:"
   ]
  },
  {
   "cell_type": "code",
   "execution_count": 8,
   "metadata": {},
   "outputs": [
    {
     "name": "stdout",
     "output_type": "stream",
     "text": [
      "(1500, 50, 4)\n",
      "(1500,)\n"
     ]
    }
   ],
   "source": [
    "X_train, X_test, Y_train, Y_test = train_test_split(seq_matrix, Y, test_size=0.25, random_state=42, shuffle=True) \n",
    "X_train.shape, X_test.shape, Y_train.shape, Y_test.shape\n",
    "\n",
    "print(X_train.shape)\n",
    "print(Y_train.shape)"
   ]
  },
  {
   "cell_type": "code",
   "execution_count": 9,
   "metadata": {},
   "outputs": [
    {
     "name": "stdout",
     "output_type": "stream",
     "text": [
      "(1500, 50, 4) (1500, 50, 4, 1)\n",
      "(500, 50, 4) (500, 50, 4, 1)\n"
     ]
    }
   ],
   "source": [
    "# Reshaping the data so it corresponds to the input format of keras\n",
    "X_train_reshaped = X_train.reshape((X_train.shape[0], X_train.shape[1], X_train.shape[2], 1))\n",
    "X_test_reshaped = X_test.reshape((X_test.shape[0], X_test.shape[1], X_test.shape[2], 1))\n",
    "print(X_train.shape, X_train_reshaped.shape)\n",
    "print(X_test.shape, X_test_reshaped.shape)"
   ]
  },
  {
   "cell_type": "markdown",
   "metadata": {},
   "source": [
    "## Create a CNN\n",
    "\n",
    "We start with a fairly simple NN architeture of a single convolutional layer followed by a max-pooling layer\n",
    "and then a single dense layer."
   ]
  },
  {
   "cell_type": "code",
   "execution_count": 10,
   "metadata": {},
   "outputs": [
    {
     "name": "stdout",
     "output_type": "stream",
     "text": [
      "Model: \"sequential\"\n",
      "_________________________________________________________________\n",
      " Layer (type)                Output Shape              Param #   \n",
      "=================================================================\n",
      " conv1d (Conv1D)             (None, 39, 32)            1568      \n",
      "                                                                 \n",
      " max_pooling1d (MaxPooling1D  (None, 9, 32)            0         \n",
      " )                                                               \n",
      "                                                                 \n",
      " flatten (Flatten)           (None, 288)               0         \n",
      "                                                                 \n",
      " dense (Dense)               (None, 16)                4624      \n",
      "                                                                 \n",
      " dense_1 (Dense)             (None, 1)                 17        \n",
      "                                                                 \n",
      "=================================================================\n",
      "Total params: 6,209\n",
      "Trainable params: 6,209\n",
      "Non-trainable params: 0\n",
      "_________________________________________________________________\n"
     ]
    },
    {
     "name": "stderr",
     "output_type": "stream",
     "text": [
      "2022-10-30 16:34:40.447831: I tensorflow/core/platform/cpu_feature_guard.cc:193] This TensorFlow binary is optimized with oneAPI Deep Neural Network Library (oneDNN) to use the following CPU instructions in performance-critical operations:  AVX2 FMA\n",
      "To enable them in other operations, rebuild TensorFlow with the appropriate compiler flags.\n"
     ]
    }
   ],
   "source": [
    "model = Sequential()\n",
    "model.add(Conv1D(filters=32, kernel_size=12, input_shape=(50, 4)))\n",
    "model.add(MaxPooling1D(pool_size=4))\n",
    "model.add(Flatten())\n",
    "model.add(Dense(16, activation='relu'))\n",
    "model.add(Dense(1, activation='sigmoid'))\n",
    "model.compile(loss='mean_squared_error', optimizer='adam')\n",
    "model.summary()"
   ]
  },
  {
   "cell_type": "markdown",
   "metadata": {},
   "source": [
    "# Fit the model"
   ]
  },
  {
   "cell_type": "code",
   "execution_count": 11,
   "metadata": {},
   "outputs": [
    {
     "name": "stdout",
     "output_type": "stream",
     "text": [
      "Epoch 1/10\n",
      "135/135 [==============================] - 1s 2ms/step - loss: 0.2129 - val_loss: 0.1548\n",
      "Epoch 2/10\n",
      "135/135 [==============================] - 0s 1ms/step - loss: 0.1240 - val_loss: 0.1124\n",
      "Epoch 3/10\n",
      "135/135 [==============================] - 0s 1ms/step - loss: 0.0896 - val_loss: 0.0909\n",
      "Epoch 4/10\n",
      "135/135 [==============================] - 0s 1ms/step - loss: 0.0589 - val_loss: 0.0696\n",
      "Epoch 5/10\n",
      "135/135 [==============================] - 0s 1ms/step - loss: 0.0398 - val_loss: 0.0570\n",
      "Epoch 6/10\n",
      "135/135 [==============================] - 0s 1ms/step - loss: 0.0264 - val_loss: 0.0451\n",
      "Epoch 7/10\n",
      "135/135 [==============================] - 0s 1ms/step - loss: 0.0177 - val_loss: 0.0630\n",
      "Epoch 8/10\n",
      "135/135 [==============================] - 0s 1ms/step - loss: 0.0149 - val_loss: 0.0390\n",
      "Epoch 9/10\n",
      "135/135 [==============================] - 0s 1ms/step - loss: 0.0104 - val_loss: 0.0341\n",
      "Epoch 10/10\n",
      "135/135 [==============================] - 0s 1ms/step - loss: 0.0069 - val_loss: 0.0339\n"
     ]
    }
   ],
   "source": [
    "history = model.fit(X_train_reshaped, Y_train,\n",
    "          batch_size=10, epochs=10,\n",
    "          validation_split=0.1)"
   ]
  },
  {
   "cell_type": "markdown",
   "metadata": {},
   "source": [
    "# Visualization"
   ]
  },
  {
   "cell_type": "code",
   "execution_count": 12,
   "metadata": {},
   "outputs": [
    {
     "data": {
      "text/plain": [
       "<matplotlib.legend.Legend at 0x7fdc709bb160>"
      ]
     },
     "execution_count": 12,
     "metadata": {},
     "output_type": "execute_result"
    },
    {
     "data": {
      "image/png": "[encoded data removed]",
      "text/plain": [
       "<Figure size 432x288 with 1 Axes>"
      ]
     },
     "metadata": {
      "needs_background": "light"
     },
     "output_type": "display_data"
    }
   ],
   "source": [
    "import matplotlib.pyplot as plt\n",
    "plt.plot(history.history['loss'])\n",
    "plt.plot(history.history['val_loss'])\n",
    "plt.legend(['loss', 'val_loss'])"
   ]
  },
  {
   "cell_type": "markdown",
   "metadata": {},
   "source": [
    "## Evaluating the Model\n",
    "\n",
    "Using metrics such as AUC and AUPRC"
   ]
  },
  {
   "cell_type": "code",
   "execution_count": 13,
   "metadata": {
    "collapsed": false
   },
   "outputs": [
    {
     "name": "stdout",
     "output_type": "stream",
     "text": [
      "16/16 [==============================] - 0s 955us/step\n"
     ]
    }
   ],
   "source": [
    "# Model predictions\n",
    "pred = model.predict(X_test_reshaped, batch_size=32).flatten()"
   ]
  },
  {
   "cell_type": "code",
   "execution_count": 14,
   "metadata": {},
   "outputs": [
    {
     "name": "stdout",
     "output_type": "stream",
     "text": [
      "AUC 0.9971483042022461\n",
      "AUPRC 0.9969029074117326\n"
     ]
    }
   ],
   "source": [
    "# Model metrics such as AUC to get an estimate how good the NN actually learned\n",
    "fpr, tpr, thresholds = roc_curve(Y_test, pred)\n",
    "print(\"AUC\", auc(fpr, tpr))\n",
    "print(\"AUPRC\", average_precision_score(Y_test, pred))"
   ]
  },
  {
   "cell_type": "markdown",
   "metadata": {},
   "source": [
    "## Make a saliency plot:"
   ]
  },
  {
   "cell_type": "code",
   "execution_count": 15,
   "metadata": {
    "collapsed": true
   },
   "outputs": [
    {
     "name": "stdout",
     "output_type": "stream",
     "text": [
      "1/1 [==============================] - 0s 17ms/step\n"
     ]
    }
   ],
   "source": [
    "# Plot the motif for the sequences\n",
    "plot_ids = np.random.randint(0, len(X_test), 1)\n",
    "\n",
    "# Get the Y ~ X for the sequences we want to plot\n",
    "seq_matrix_plot = seq_matrix.reshape((seq_matrix.shape[0], seq_matrix.shape[1], seq_matrix.shape[2], 1))[plot_ids, :]\n",
    "seq_matrix_plot_pred = model.predict(seq_matrix_plot, batch_size=32).flatten()"
   ]
  },
  {
   "cell_type": "markdown",
   "metadata": {},
   "source": [
    "## Calculate Gradient"
   ]
  },
  {
   "cell_type": "code",
   "execution_count": 16,
   "metadata": {
    "collapsed": false
   },
   "outputs": [
    {
     "name": "stdout",
     "output_type": "stream",
     "text": [
      "(1, 50, 4, 1)\n",
      "(50, 50, 4, 1)\n"
     ]
    }
   ],
   "source": [
    "# Generate a new set of X where for each sequence every nucleotide is consecutively set to 0\n",
    "X = np.repeat(seq_matrix_plot, 50, axis=0)\n",
    "\n",
    "first = np.ones((50, 50), int)\n",
    "np.fill_diagonal(first, 0)\n",
    "second = np.repeat(first.reshape((1,50,50)), seq_matrix_plot.shape[0], axis=0)\n",
    "third = np.concatenate(second, axis=0)\n",
    "fourth = np.multiply(X, np.repeat(third.reshape((X.shape[0], 50, 1, 1)), 4, axis=2))\n",
    "\n",
    "print(seq_matrix_plot.shape)\n",
    "print(fourth.shape)"
   ]
  },
  {
   "cell_type": "code",
   "execution_count": 17,
   "metadata": {
    "collapsed": false
   },
   "outputs": [
    {
     "name": "stdout",
     "output_type": "stream",
     "text": [
      "2/2 [==============================] - 0s 2ms/step\n"
     ]
    }
   ],
   "source": [
    "# Calculate the prediction for each sequence with one deleted nucleotide\n",
    "fourth_pred = model.predict(fourth, batch_size=32).flatten()\n",
    "\n",
    "# Calculating scores\n",
    "scores = np.reshape((np.repeat(seq_matrix_plot_pred, 50) - fourth_pred), (len(plot_ids),50))"
   ]
  },
  {
   "cell_type": "markdown",
   "metadata": {},
   "source": [
    "## Make the Motif/Saliency plot\n",
    "#### I used motif_plotter package available at https://github.com/const-ae/motif_plotter. Make sure you copy the motif_plotter folder from that repo before executing this command"
   ]
  },
  {
   "cell_type": "code",
   "execution_count": 24,
   "metadata": {
    "collapsed": false
   },
   "outputs": [
    {
     "data": {
      "image/png": "[encoded data removed]",
      "text/plain": [
       "<Figure size 1440x400 with 1 Axes>"
      ]
     },
     "metadata": {
      "needs_background": "light"
     },
     "output_type": "display_data"
    }
   ],
   "source": [
    "import motif_plotter \n",
    "import matplotlib.pyplot as plt\n",
    "\n",
    "for idx in range(0,len(plot_ids)):\n",
    "    fig=plt.figure(figsize=(18, 5), dpi= 80)\n",
    "    ax=fig.add_subplot(111)\n",
    "    motif_plotter.make_single_sequence_spectrum(ax, \n",
    "                                                seq_matrix_plot[idx].reshape((50, 4)),\n",
    "                                                np.arcsinh(scores[idx]).reshape(50,1))\n",
    "    plt.show()\n"
   ]
  }
 ],
 "metadata": {
  "anaconda-cloud": {},
  "kernelspec": {
   "display_name": "Python 3.9.12 ('condon_optimzation')",
   "language": "python",
   "name": "python3"
  },
  "language_info": {
   "codemirror_mode": {
    "name": "ipython",
    "version": 3
   },
   "file_extension": ".py",
   "mimetype": "text/x-python",
   "name": "python",
   "nbconvert_exporter": "python",
   "pygments_lexer": "ipython3",
   "version": "3.9.12"
  },
  "vscode": {
   "interpreter": {
    "hash": "6c9ad104059c90d12f50de5b72966553aaf7f663dcb89a78d88d441df52afa79"
   }
  }
 },
 "nbformat": 4,
 "nbformat_minor": 1
}

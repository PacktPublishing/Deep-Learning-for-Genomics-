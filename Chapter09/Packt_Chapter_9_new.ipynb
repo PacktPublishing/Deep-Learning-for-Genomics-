{
  "nbformat": 4,
  "nbformat_minor": 0,
  "metadata": {
    "colab": {
      "provenance": []
    },
    "kernelspec": {
      "name": "python3",
      "display_name": "Python 3"
    },
    "language_info": {
      "name": "python"
    }
  },
  "cells": [
    {
      "cell_type": "code",
      "source": [
        "!mkdir -p JUND_TF/train\n",
        "!mkdir -p JUND_TF/test\n",
        "!mkdir -p JUND_TF/valid"
      ],
      "metadata": {
        "id": "3VW58gNL1nYG"
      },
      "execution_count": 1,
      "outputs": []
    },
    {
      "cell_type": "markdown",
      "source": [
        "## Download all necessary folders from [here](https://drive.google.com/drive/folders/1P7blSt-U-p4-SehKXegqGpLINaBVkSQi?usp=sharing) to `JUND_TF` folder. If you are using Google collabs. Then you should download all the files to `/content/JUND_TF` folder "
      ],
      "metadata": {
        "id": "_1-TUBQ11NLd"
      }
    },
    {
      "cell_type": "code",
      "source": [
        "# Import libraries\n",
        "import os\n",
        "import numpy as np\n",
        "import pandas as pd"
      ],
      "metadata": {
        "id": "novMi1H_6uJ0"
      },
      "execution_count": 2,
      "outputs": []
    },
    {
      "cell_type": "code",
      "source": [
        "path = \"/content/JUND_TF\"\n",
        "os.chdir(path)"
      ],
      "metadata": {
        "id": "zr2ykpwO6vKs"
      },
      "execution_count": 3,
      "outputs": []
    },
    {
      "cell_type": "code",
      "source": [
        "!ls -lh *"
      ],
      "metadata": {
        "id": "XE-FQeZiG0at",
        "colab": {
          "base_uri": "https://localhost:8080/"
        },
        "outputId": "0a07e9bd-a6fd-4f10-8254-2ab0bf4c19de"
      },
      "execution_count": 5,
      "outputs": [
        {
          "output_type": "stream",
          "name": "stdout",
          "text": [
            "test:\n",
            "total 14M\n",
            "-rw-r--r-- 1 root root  14M Dec 30 16:46 test_X.npy\n",
            "-rw-r--r-- 1 root root 270K Dec 30 16:46 test_y.npy\n",
            "\n",
            "train:\n",
            "total 109M\n",
            "-rw-r--r-- 1 root root 107M Dec 30 16:47 train_X.npy\n",
            "-rw-r--r-- 1 root root 2.2M Dec 30 16:45 train_y.npy\n",
            "\n",
            "valid:\n",
            "total 6.3M\n",
            "-rw-r--r-- 1 root root 6.0M Dec 30 16:45 valid_X.npy\n",
            "-rw-r--r-- 1 root root 270K Dec 30 16:45 valid_y.npy\n"
          ]
        }
      ]
    },
    {
      "cell_type": "code",
      "source": [
        "train_path = path + \"/train\"\n",
        "valid_path = path + \"/valid\"\n",
        "test_path = path + \"/test\""
      ],
      "metadata": {
        "id": "58PfTFzE7fZz"
      },
      "execution_count": 4,
      "outputs": []
    },
    {
      "cell_type": "code",
      "source": [
        "print(train_path)\n",
        "print(valid_path)\n",
        "print(test_path)"
      ],
      "metadata": {
        "colab": {
          "base_uri": "https://localhost:8080/"
        },
        "id": "8-_ORRBj7sG1",
        "outputId": "960d4a92-19bd-45e0-acd5-445a8e8fb548"
      },
      "execution_count": 5,
      "outputs": [
        {
          "output_type": "stream",
          "name": "stdout",
          "text": [
            "/content/JUND_TF/train\n",
            "/content/JUND_TF/valid\n",
            "/content/JUND_TF/test\n"
          ]
        }
      ]
    },
    {
      "cell_type": "code",
      "source": [
        "train = {}\n",
        "with open(train_path+'/train_X.npy','rb') as f:\n",
        "    train['X'] = np.load(f)\n",
        "with open(train_path+'/train_y.npy', 'rb') as f:\n",
        "    train['y'] = np.load(f)"
      ],
      "metadata": {
        "id": "BjDD3qv37xWR"
      },
      "execution_count": 6,
      "outputs": []
    },
    {
      "cell_type": "code",
      "source": [
        "valid = {}\n",
        "with open(valid_path+'/valid_X.npy','rb') as f:\n",
        "    valid['X'] = np.load(f)\n",
        "with open(valid_path+'/valid_y.npy', 'rb') as f:\n",
        "    valid['y'] = np.load(f)"
      ],
      "metadata": {
        "id": "6Y-M25zx71MO"
      },
      "execution_count": 7,
      "outputs": []
    },
    {
      "cell_type": "code",
      "source": [
        "test = {}\n",
        "with open(test_path+'/test_X.npy','rb') as f:\n",
        "    test['X'] = np.load(f)\n",
        "with open(test_path+'/test_y.npy', 'rb') as f:\n",
        "    test['y'] = np.load(f)"
      ],
      "metadata": {
        "id": "kGzM58hJ78D4"
      },
      "execution_count": 8,
      "outputs": []
    },
    {
      "cell_type": "code",
      "source": [
        "print(train['X'].shape, train['y'].shape)\n",
        "print(test['X'].shape, test['y'].shape)\n",
        "print(valid['X'].shape, valid['y'].shape)"
      ],
      "metadata": {
        "colab": {
          "base_uri": "https://localhost:8080/"
        },
        "id": "FYvO-EsHwSPy",
        "outputId": "039a948e-533c-4365-e283-d4d07cbf3a32"
      },
      "execution_count": 11,
      "outputs": [
        {
          "output_type": "stream",
          "name": "stdout",
          "text": [
            "(276216, 101, 4) (276216, 1)\n",
            "(34528, 101, 4) (34528, 1)\n",
            "(34527, 101, 4) (34527, 1)\n"
          ]
        }
      ]
    },
    {
      "cell_type": "code",
      "source": [
        "# Distribution of classes in the train data\n",
        "pd.DataFrame(train['y']).value_counts()"
      ],
      "metadata": {
        "colab": {
          "base_uri": "https://localhost:8080/"
        },
        "id": "jxmC26D1HBQB",
        "outputId": "5afcae2f-c866-40a9-a8bb-a6a045c4bd02"
      },
      "execution_count": 12,
      "outputs": [
        {
          "output_type": "execute_result",
          "data": {
            "text/plain": [
              "0    275048\n",
              "1      1168\n",
              "dtype: int64"
            ]
          },
          "metadata": {},
          "execution_count": 12
        }
      ]
    },
    {
      "cell_type": "code",
      "source": [
        "train_features = train['X']\n",
        "train_labels = train['y']"
      ],
      "metadata": {
        "id": "LqtAf1ROMwZW"
      },
      "execution_count": 14,
      "outputs": []
    },
    {
      "cell_type": "code",
      "source": [
        "X = train['X'].reshape(train['X'].shape[0], -1)\n",
        "X.shape"
      ],
      "metadata": {
        "colab": {
          "base_uri": "https://localhost:8080/"
        },
        "id": "vayNRrEkF9q5",
        "outputId": "732273b2-4d11-436b-ee09-fd7b37e398fa"
      },
      "execution_count": 16,
      "outputs": [
        {
          "output_type": "execute_result",
          "data": {
            "text/plain": [
              "(276216, 404)"
            ]
          },
          "metadata": {},
          "execution_count": 16
        }
      ]
    },
    {
      "cell_type": "code",
      "source": [
        "from keras.layers import Conv1D, Dense, MaxPooling1D, Flatten, Dropout\n",
        "from keras.models import Sequential\n",
        "model = Sequential()\n",
        "model.add(Conv1D(filters=15, kernel_size = 10, padding=\"same\", input_shape=(train['X'].shape[1], train['X'].shape[2])))\n",
        "model.add(Dropout(0.5))\n",
        "model.add(Conv1D(filters=15, kernel_size = 10, padding=\"same\", input_shape=(train['X'].shape[1], train['X'].shape[2])))\n",
        "model.add(Dropout(0.5))\n",
        "model.add(Conv1D(filters=15, kernel_size = 10, padding=\"same\", input_shape=(train['X'].shape[1], train['X'].shape[2])))\n",
        "model.add(Dropout(0.5))\n",
        "model.add(Flatten())\n",
        "model.add(Dense(16, activation='relu'))\n",
        "model.add(Dense(1,activation='sigmoid'))\n",
        "model.compile(loss='binary_crossentropy', optimizer='adam', metrics=['binary_accuracy', 'AUC'])\n",
        "model.summary()"
      ],
      "metadata": {
        "colab": {
          "base_uri": "https://localhost:8080/"
        },
        "id": "Eqzhk9DkOoir",
        "outputId": "12c38e00-6494-4624-ade7-9bb2eadd6155"
      },
      "execution_count": 14,
      "outputs": [
        {
          "output_type": "stream",
          "name": "stdout",
          "text": [
            "Model: \"sequential_1\"\n",
            "_________________________________________________________________\n",
            " Layer (type)                Output Shape              Param #   \n",
            "=================================================================\n",
            " conv1d (Conv1D)             (None, 101, 15)           615       \n",
            "                                                                 \n",
            " dropout (Dropout)           (None, 101, 15)           0         \n",
            "                                                                 \n",
            " conv1d_1 (Conv1D)           (None, 101, 15)           2265      \n",
            "                                                                 \n",
            " dropout_1 (Dropout)         (None, 101, 15)           0         \n",
            "                                                                 \n",
            " conv1d_2 (Conv1D)           (None, 101, 15)           2265      \n",
            "                                                                 \n",
            " dropout_2 (Dropout)         (None, 101, 15)           0         \n",
            "                                                                 \n",
            " flatten (Flatten)           (None, 1515)              0         \n",
            "                                                                 \n",
            " dense (Dense)               (None, 16)                24256     \n",
            "                                                                 \n",
            " dense_1 (Dense)             (None, 1)                 17        \n",
            "                                                                 \n",
            "=================================================================\n",
            "Total params: 29,418\n",
            "Trainable params: 29,418\n",
            "Non-trainable params: 0\n",
            "_________________________________________________________________\n"
          ]
        }
      ]
    },
    {
      "cell_type": "code",
      "source": [
        "history = model.fit(x=train['X'], # feature matrix\n",
        "                    y=train['y'], # target vector\n",
        "                    validation_data=(valid['X'], valid['y']),\n",
        "                    epochs=25)"
      ],
      "metadata": {
        "colab": {
          "base_uri": "https://localhost:8080/"
        },
        "id": "29eZa_DwOofX",
        "outputId": "2ae665a9-36be-4500-ec0d-f195e488698d"
      },
      "execution_count": 15,
      "outputs": [
        {
          "output_type": "stream",
          "name": "stdout",
          "text": [
            "Epoch 1/25\n",
            "8632/8632 [==============================] - 154s 18ms/step - loss: 0.0305 - binary_accuracy: 0.9956 - auc: 0.5079 - val_loss: 0.0274 - val_binary_accuracy: 0.9958 - val_auc: 0.5170\n",
            "Epoch 2/25\n",
            "8632/8632 [==============================] - 149s 17ms/step - loss: 0.0287 - binary_accuracy: 0.9958 - auc: 0.5168 - val_loss: 0.0275 - val_binary_accuracy: 0.9958 - val_auc: 0.5014\n",
            "Epoch 3/25\n",
            "8632/8632 [==============================] - 148s 17ms/step - loss: 0.0285 - binary_accuracy: 0.9958 - auc: 0.5057 - val_loss: 0.0275 - val_binary_accuracy: 0.9958 - val_auc: 0.5017\n",
            "Epoch 4/25\n",
            "8632/8632 [==============================] - 147s 17ms/step - loss: 0.0284 - binary_accuracy: 0.9958 - auc: 0.4998 - val_loss: 0.0283 - val_binary_accuracy: 0.9958 - val_auc: 0.5092\n",
            "Epoch 5/25\n",
            "8632/8632 [==============================] - 142s 16ms/step - loss: 0.0282 - binary_accuracy: 0.9958 - auc: 0.5034 - val_loss: 0.0276 - val_binary_accuracy: 0.9958 - val_auc: 0.5000\n",
            "Epoch 6/25\n",
            "8632/8632 [==============================] - 141s 16ms/step - loss: 0.0282 - binary_accuracy: 0.9958 - auc: 0.5001 - val_loss: 0.0276 - val_binary_accuracy: 0.9958 - val_auc: 0.5023\n",
            "Epoch 7/25\n",
            "8632/8632 [==============================] - 137s 16ms/step - loss: 0.0283 - binary_accuracy: 0.9958 - auc: 0.5111 - val_loss: 0.0275 - val_binary_accuracy: 0.9958 - val_auc: 0.4996\n",
            "Epoch 8/25\n",
            "8632/8632 [==============================] - 146s 17ms/step - loss: 0.0281 - binary_accuracy: 0.9958 - auc: 0.5089 - val_loss: 0.0278 - val_binary_accuracy: 0.9958 - val_auc: 0.5176\n",
            "Epoch 9/25\n",
            "8632/8632 [==============================] - 137s 16ms/step - loss: 0.0281 - binary_accuracy: 0.9958 - auc: 0.5037 - val_loss: 0.0275 - val_binary_accuracy: 0.9958 - val_auc: 0.4950\n",
            "Epoch 10/25\n",
            "8632/8632 [==============================] - 136s 16ms/step - loss: 0.0283 - binary_accuracy: 0.9958 - auc: 0.5164 - val_loss: 0.0275 - val_binary_accuracy: 0.9958 - val_auc: 0.5178\n",
            "Epoch 11/25\n",
            "8632/8632 [==============================] - 142s 16ms/step - loss: 0.0282 - binary_accuracy: 0.9958 - auc: 0.4996 - val_loss: 0.0274 - val_binary_accuracy: 0.9958 - val_auc: 0.4809\n",
            "Epoch 12/25\n",
            "8632/8632 [==============================] - 145s 17ms/step - loss: 0.0282 - binary_accuracy: 0.9958 - auc: 0.5109 - val_loss: 0.0298 - val_binary_accuracy: 0.9958 - val_auc: 0.4998\n",
            "Epoch 13/25\n",
            "8632/8632 [==============================] - 153s 18ms/step - loss: 0.0283 - binary_accuracy: 0.9958 - auc: 0.5000 - val_loss: 0.0282 - val_binary_accuracy: 0.9958 - val_auc: 0.5000\n",
            "Epoch 14/25\n",
            "8632/8632 [==============================] - 163s 19ms/step - loss: 0.0281 - binary_accuracy: 0.9958 - auc: 0.5121 - val_loss: 0.0274 - val_binary_accuracy: 0.9958 - val_auc: 0.4835\n",
            "Epoch 15/25\n",
            "8632/8632 [==============================] - 137s 16ms/step - loss: 0.0280 - binary_accuracy: 0.9958 - auc: 0.5007 - val_loss: 0.0275 - val_binary_accuracy: 0.9958 - val_auc: 0.5186\n",
            "Epoch 16/25\n",
            "8632/8632 [==============================] - 140s 16ms/step - loss: 0.0283 - binary_accuracy: 0.9958 - auc: 0.4996 - val_loss: 0.0276 - val_binary_accuracy: 0.9958 - val_auc: 0.4992\n",
            "Epoch 17/25\n",
            "8632/8632 [==============================] - 145s 17ms/step - loss: 0.0280 - binary_accuracy: 0.9958 - auc: 0.5008 - val_loss: 0.0282 - val_binary_accuracy: 0.9958 - val_auc: 0.5000\n",
            "Epoch 18/25\n",
            "8632/8632 [==============================] - 149s 17ms/step - loss: 0.0282 - binary_accuracy: 0.9958 - auc: 0.5142 - val_loss: 0.0274 - val_binary_accuracy: 0.9958 - val_auc: 0.5017\n",
            "Epoch 19/25\n",
            "8632/8632 [==============================] - 145s 17ms/step - loss: 0.0281 - binary_accuracy: 0.9958 - auc: 0.5052 - val_loss: 0.0279 - val_binary_accuracy: 0.9958 - val_auc: 0.5023\n",
            "Epoch 20/25\n",
            "8632/8632 [==============================] - 146s 17ms/step - loss: 0.0279 - binary_accuracy: 0.9958 - auc: 0.5052 - val_loss: 0.0279 - val_binary_accuracy: 0.9958 - val_auc: 0.4993\n",
            "Epoch 21/25\n",
            "8632/8632 [==============================] - 145s 17ms/step - loss: 0.0279 - binary_accuracy: 0.9958 - auc: 0.5170 - val_loss: 0.0276 - val_binary_accuracy: 0.9958 - val_auc: 0.5000\n",
            "Epoch 22/25\n",
            "8632/8632 [==============================] - 142s 16ms/step - loss: 0.0281 - binary_accuracy: 0.9958 - auc: 0.5018 - val_loss: 0.0273 - val_binary_accuracy: 0.9958 - val_auc: 0.5022\n",
            "Epoch 23/25\n",
            "8632/8632 [==============================] - 142s 16ms/step - loss: 0.0282 - binary_accuracy: 0.9958 - auc: 0.4975 - val_loss: 0.0274 - val_binary_accuracy: 0.9958 - val_auc: 0.5047\n",
            "Epoch 24/25\n",
            "8632/8632 [==============================] - 141s 16ms/step - loss: 0.0279 - binary_accuracy: 0.9958 - auc: 0.5068 - val_loss: 0.0275 - val_binary_accuracy: 0.9958 - val_auc: 0.4783\n",
            "Epoch 25/25\n",
            "8632/8632 [==============================] - 138s 16ms/step - loss: 0.0277 - binary_accuracy: 0.9958 - auc: 0.4987 - val_loss: 0.0274 - val_binary_accuracy: 0.9958 - val_auc: 0.5000\n"
          ]
        }
      ]
    },
    {
      "cell_type": "code",
      "source": [
        "import matplotlib.pyplot as plt\n",
        "plt.plot(history.history['loss'])\n",
        "plt.plot(history.history['val_loss'])\n",
        "plt.legend(labels=[\"train\", \"valid\"])"
      ],
      "metadata": {
        "colab": {
          "base_uri": "https://localhost:8080/",
          "height": 282
        },
        "id": "ZgIzeknGnlJl",
        "outputId": "66894aad-0d0a-476d-98a3-4ed6dbb14e01"
      },
      "execution_count": 16,
      "outputs": [
        {
          "output_type": "execute_result",
          "data": {
            "text/plain": [
              "<matplotlib.legend.Legend at 0x7f62c9b86580>"
            ]
          },
          "metadata": {},
          "execution_count": 16
        },
        {
          "output_type": "display_data",
          "data": {
            "text/plain": [
              "<Figure size 432x288 with 1 Axes>"
            ],
            "image/png": "[encoded data removed]"
          },
          "metadata": {
            "needs_background": "light"
          }
        }
      ]
    },
    {
      "cell_type": "code",
      "source": [
        "plt.plot(history.history['binary_accuracy'])\n",
        "plt.plot(history.history['val_binary_accuracy'])\n",
        "plt.legend(labels=['train', 'valid'])"
      ],
      "metadata": {
        "colab": {
          "base_uri": "https://localhost:8080/",
          "height": 282
        },
        "id": "INrCLYzsn8NO",
        "outputId": "c460b3ec-cba2-4f7c-de21-923956071f72"
      },
      "execution_count": 17,
      "outputs": [
        {
          "output_type": "execute_result",
          "data": {
            "text/plain": [
              "<matplotlib.legend.Legend at 0x7f62c965b0a0>"
            ]
          },
          "metadata": {},
          "execution_count": 17
        },
        {
          "output_type": "display_data",
          "data": {
            "text/plain": [
              "<Figure size 432x288 with 1 Axes>"
            ],
            "image/png": "[encoded data removed]"
          },
          "metadata": {
            "needs_background": "light"
          }
        }
      ]
    },
    {
      "cell_type": "code",
      "source": [
        "results_train = model.evaluate(train['X'], train['y'])\n",
        "print('train loss, train acc, train auc:', results_train)"
      ],
      "metadata": {
        "colab": {
          "base_uri": "https://localhost:8080/"
        },
        "id": "Sdbx86u-sGz2",
        "outputId": "9ad94ae4-8e57-4085-e417-4c90a474aebf"
      },
      "execution_count": 18,
      "outputs": [
        {
          "output_type": "stream",
          "name": "stdout",
          "text": [
            "8632/8632 [==============================] - 41s 5ms/step - loss: 0.0273 - binary_accuracy: 0.9958 - auc: 0.5000\n",
            "train loss, train acc, train auc: [0.02726268768310547, 0.9957714080810547, 0.4999854564666748]\n"
          ]
        }
      ]
    },
    {
      "cell_type": "code",
      "source": [
        "results_test = model.evaluate(test['X'], test['y'], batch_size=128)\n",
        "print(\"test loss, test acc, test auc:\", results_test)"
      ],
      "metadata": {
        "colab": {
          "base_uri": "https://localhost:8080/"
        },
        "id": "hRDfcm4qOoXK",
        "outputId": "633bb77f-2d65-49d0-a24b-225b7ca34452"
      },
      "execution_count": 19,
      "outputs": [
        {
          "output_type": "stream",
          "name": "stdout",
          "text": [
            "270/270 [==============================] - 4s 15ms/step - loss: 0.0274 - binary_accuracy: 0.9958 - auc: 0.5000\n",
            "test loss, test acc, test auc: [0.027420099824666977, 0.9957715272903442, 0.5]\n"
          ]
        }
      ]
    }
  ]
}
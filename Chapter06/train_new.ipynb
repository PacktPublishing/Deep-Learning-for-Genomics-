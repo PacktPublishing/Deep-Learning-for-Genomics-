{
 "cells": [
  {
   "cell_type": "code",
   "execution_count": 22,
   "metadata": {},
   "outputs": [],
   "source": [
    "import numpy as np\n",
    "from sklearn import metrics\n",
    "import pandas as pd\n",
    "from keras.models import Sequential\n",
    "from keras.models import Model\n",
    "from keras.layers import Dense, Dropout, Activation, Flatten, Layer, Input\n",
    "from keras.layers.convolutional import Conv1D, MaxPooling1D\n",
    "from keras.layers import LSTM\n",
    "from keras.layers import Bidirectional\n",
    "from keras.callbacks import ModelCheckpoint, EarlyStopping"
   ]
  },
  {
   "cell_type": "code",
   "execution_count": 23,
   "metadata": {},
   "outputs": [
    {
     "data": {
      "text/plain": [
       "(10000, 1000, 4)"
      ]
     },
     "execution_count": 23,
     "metadata": {},
     "output_type": "execute_result"
    }
   ],
   "source": [
    "# Load train features data\n",
    "X_train = np.load('data/X_train.npy')\n",
    "X_train = X_train[:10000,:]\n",
    "X_train.shape"
   ]
  },
  {
   "cell_type": "code",
   "execution_count": 24,
   "metadata": {},
   "outputs": [
    {
     "data": {
      "text/plain": [
       "(10000, 690)"
      ]
     },
     "execution_count": 24,
     "metadata": {},
     "output_type": "execute_result"
    }
   ],
   "source": [
    "# Load train labels data\n",
    "y_train = np.load('data/y_train.npy')\n",
    "y_train = y_train[:10000,:]\n",
    "y_train.shape"
   ]
  },
  {
   "cell_type": "code",
   "execution_count": 25,
   "metadata": {},
   "outputs": [
    {
     "data": {
      "text/plain": [
       "(1000, 1000, 4)"
      ]
     },
     "execution_count": 25,
     "metadata": {},
     "output_type": "execute_result"
    }
   ],
   "source": [
    "# Load test features data\n",
    "X_test = np.load('data/X_test.npy')\n",
    "X_test = X_test[:1000,:]\n",
    "X_test.shape"
   ]
  },
  {
   "cell_type": "code",
   "execution_count": 26,
   "metadata": {},
   "outputs": [
    {
     "data": {
      "text/plain": [
       "(1000, 690)"
      ]
     },
     "execution_count": 26,
     "metadata": {},
     "output_type": "execute_result"
    }
   ],
   "source": [
    "# Load test labels\n",
    "y_test = np.load('data/y_test.npy')\n",
    "y_test = y_test[:1000,:]\n",
    "y_test.shape"
   ]
  },
  {
   "cell_type": "code",
   "execution_count": 27,
   "metadata": {},
   "outputs": [
    {
     "name": "stdout",
     "output_type": "stream",
     "text": [
      "compiling model\n",
      "model summary\n",
      "Model: \"model_1\"\n",
      "_________________________________________________________________\n",
      " Layer (type)                Output Shape              Param #   \n",
      "=================================================================\n",
      " input_2 (InputLayer)        [(None, 1000, 4)]         0         \n",
      "                                                                 \n",
      " conv1d_1 (Conv1D)           (None, 975, 320)          33600     \n",
      "                                                                 \n",
      " max_pooling1d_1 (MaxPooling  (None, 487, 320)         0         \n",
      " 1D)                                                             \n",
      "                                                                 \n",
      " dropout_2 (Dropout)         (None, 487, 320)          0         \n",
      "                                                                 \n",
      " bidirectional_1 (Bidirectio  (None, 487, 640)         1640960   \n",
      " nal)                                                            \n",
      "                                                                 \n",
      " dropout_3 (Dropout)         (None, 487, 640)          0         \n",
      "                                                                 \n",
      " flatten_1 (Flatten)         (None, 311680)            0         \n",
      "                                                                 \n",
      " dense_2 (Dense)             (None, 695)               216618295 \n",
      "                                                                 \n",
      " activation_2 (Activation)   (None, 695)               0         \n",
      "                                                                 \n",
      " dense_3 (Dense)             (None, 690)               480240    \n",
      "                                                                 \n",
      " activation_3 (Activation)   (None, 690)               0         \n",
      "                                                                 \n",
      "=================================================================\n",
      "Total params: 218,773,095\n",
      "Trainable params: 218,773,095\n",
      "Non-trainable params: 0\n",
      "_________________________________________________________________\n",
      "Epoch 1/2\n",
      "90/90 [==============================] - ETA: 0s - loss: 0.0846\n",
      "Epoch 1: saving model to ./model/bilstm_model.hdf5\n",
      "90/90 [==============================] - 638s 7s/step - loss: 0.0846 - val_loss: 0.0601\n",
      "Epoch 2/2\n",
      "90/90 [==============================] - ETA: 0s - loss: 0.0598\n",
      "Epoch 2: saving model to ./model/bilstm_model.hdf5\n",
      "90/90 [==============================] - 666s 7s/step - loss: 0.0598 - val_loss: 0.0598\n"
     ]
    }
   ],
   "source": [
    "input_data = Input(shape=(1000,4))\n",
    "\n",
    "# Convolutional Layer\n",
    "output = Conv1D(320,kernel_size=26,activation=\"relu\")(input_data)\n",
    "output = MaxPooling1D()(output)\n",
    "output = Dropout(0.2)(output)\n",
    "\n",
    "#BiLSTM Layer\n",
    "output = Bidirectional(LSTM(320,return_sequences=True))(output)\n",
    "output = Dropout(0.5)(output)\n",
    "\n",
    "flat_output = Flatten()(output)\n",
    "\n",
    "#FC Layer\n",
    "FC_output = Dense(695)(flat_output)\n",
    "FC_output = Activation('relu')(FC_output)\n",
    "\n",
    "#Output Layer\n",
    "output = Dense(690)(FC_output)\n",
    "output = Activation('sigmoid')(output)\n",
    "\n",
    "model = Model(inputs=input_data, outputs=output)\n",
    "\n",
    "print('compiling model')\n",
    "model.compile(loss='binary_crossentropy', optimizer='adam')\n",
    "\n",
    "print('model summary')\n",
    "model.summary()\n",
    "\n",
    "checkpointer = ModelCheckpoint(filepath=\"./model/bilstm_model.hdf5\", verbose=1, save_best_only=False)\n",
    "earlystopper = EarlyStopping(monitor='val_loss', patience=10, verbose=1)\n",
    "\n",
    "history = model.fit(X_train, y_train, batch_size=100, epochs=2, shuffle=True, verbose=1, validation_split=0.1, callbacks=[checkpointer,earlystopper])"
   ]
  },
  {
   "cell_type": "code",
   "execution_count": 28,
   "metadata": {},
   "outputs": [
    {
     "data": {
      "text/plain": [
       "0.07223836332559586"
      ]
     },
     "execution_count": 28,
     "metadata": {},
     "output_type": "execute_result"
    }
   ],
   "source": [
    "np.mean(history.history['loss'])"
   ]
  },
  {
   "cell_type": "code",
   "execution_count": 29,
   "metadata": {},
   "outputs": [
    {
     "data": {
      "text/plain": [
       "0.059938663616776466"
      ]
     },
     "execution_count": 29,
     "metadata": {},
     "output_type": "execute_result"
    }
   ],
   "source": [
    "np.mean(history.history['val_loss'])"
   ]
  }
 ],
 "metadata": {
  "kernelspec": {
   "display_name": "Python 3.9.12 ('condon_optimzation')",
   "language": "python",
   "name": "python3"
  },
  "language_info": {
   "codemirror_mode": {
    "name": "ipython",
    "version": 3
   },
   "file_extension": ".py",
   "mimetype": "text/x-python",
   "name": "python",
   "nbconvert_exporter": "python",
   "pygments_lexer": "ipython3",
   "version": "3.9.12"
  },
  "orig_nbformat": 4,
  "vscode": {
   "interpreter": {
    "hash": "6c9ad104059c90d12f50de5b72966553aaf7f663dcb89a78d88d441df52afa79"
   }
  }
 },
 "nbformat": 4,
 "nbformat_minor": 2
}

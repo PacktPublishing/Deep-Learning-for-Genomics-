{
 "cells": [
  {
   "cell_type": "markdown",
   "metadata": {},
   "source": [
    "# Pan-cancer gene prediction using Autoencoders"
   ]
  },
  {
   "cell_type": "code",
   "execution_count": 1,
   "metadata": {
    "collapsed": false
   },
   "outputs": [],
   "source": [
    "import os\n",
    "import numpy as np\n",
    "import pandas as pd\n",
    "import matplotlib.pyplot as plt\n",
    "import seaborn as sns\n",
    "from keras.layers import Input, Dense\n",
    "from keras.models import Sequential\n",
    "from sklearn.model_selection import train_test_split"
   ]
  },
  {
   "cell_type": "code",
   "execution_count": 2,
   "metadata": {
    "collapsed": false
   },
   "outputs": [
    {
     "data": {
      "text/html": [
       "<div>\n",
       "<style scoped>\n",
       "    .dataframe tbody tr th:only-of-type {\n",
       "        vertical-align: middle;\n",
       "    }\n",
       "\n",
       "    .dataframe tbody tr th {\n",
       "        vertical-align: top;\n",
       "    }\n",
       "\n",
       "    .dataframe thead th {\n",
       "        text-align: right;\n",
       "    }\n",
       "</style>\n",
       "<table border=\"1\" class=\"dataframe\">\n",
       "  <thead>\n",
       "    <tr style=\"text-align: right;\">\n",
       "      <th></th>\n",
       "      <th>RPS4Y1</th>\n",
       "      <th>XIST</th>\n",
       "      <th>KRT5</th>\n",
       "      <th>AGR2</th>\n",
       "      <th>CEACAM5</th>\n",
       "    </tr>\n",
       "  </thead>\n",
       "  <tbody>\n",
       "    <tr>\n",
       "      <th>TCGA-02-0047-01</th>\n",
       "      <td>0.678296</td>\n",
       "      <td>0.289910</td>\n",
       "      <td>0.034230</td>\n",
       "      <td>0.0</td>\n",
       "      <td>0.0</td>\n",
       "    </tr>\n",
       "    <tr>\n",
       "      <th>TCGA-02-0055-01</th>\n",
       "      <td>0.200633</td>\n",
       "      <td>0.654917</td>\n",
       "      <td>0.181993</td>\n",
       "      <td>0.0</td>\n",
       "      <td>0.0</td>\n",
       "    </tr>\n",
       "  </tbody>\n",
       "</table>\n",
       "</div>"
      ],
      "text/plain": [
       "                   RPS4Y1      XIST      KRT5  AGR2  CEACAM5\n",
       "TCGA-02-0047-01  0.678296  0.289910  0.034230   0.0      0.0\n",
       "TCGA-02-0055-01  0.200633  0.654917  0.181993   0.0      0.0"
      ]
     },
     "execution_count": 2,
     "metadata": {},
     "output_type": "execute_result"
    }
   ],
   "source": [
    "# Load RNAseq data\n",
    "pancan_rnaseq_df = pd.read_csv('data/pancan_scaled_zeroone_rnaseq.tsv', index_col=0, sep=\"\\t\", low_memory=False)\n",
    "pancan_rnaseq_df.iloc[:2,:5].head()"
   ]
  },
  {
   "cell_type": "code",
   "execution_count": 3,
   "metadata": {
    "collapsed": true
   },
   "outputs": [
    {
     "data": {
      "text/plain": [
       "((9413, 5000), (1046, 5000))"
      ]
     },
     "execution_count": 3,
     "metadata": {},
     "output_type": "execute_result"
    }
   ],
   "source": [
    "# Train Test split\n",
    "pancan_rnaseq_df_train, pancan_rnaseq_df_test = train_test_split(pancan_rnaseq_df, test_size=0.1, shuffle=True)\n",
    "pancan_rnaseq_df_train.shape, pancan_rnaseq_df_test.shape"
   ]
  },
  {
   "cell_type": "code",
   "execution_count": 4,
   "metadata": {},
   "outputs": [
    {
     "name": "stdout",
     "output_type": "stream",
     "text": [
      "Model: \"sequential\"\n",
      "_________________________________________________________________\n",
      " Layer (type)                Output Shape              Param #   \n",
      "=================================================================\n",
      " dense (Dense)               (None, 100)               500100    \n",
      "                                                                 \n",
      " dense_1 (Dense)             (None, 5000)              505000    \n",
      "                                                                 \n",
      "=================================================================\n",
      "Total params: 1,005,100\n",
      "Trainable params: 1,005,100\n",
      "Non-trainable params: 0\n",
      "_________________________________________________________________\n"
     ]
    },
    {
     "name": "stderr",
     "output_type": "stream",
     "text": [
      "2022-10-30 22:10:12.712060: I tensorflow/core/platform/cpu_feature_guard.cc:193] This TensorFlow binary is optimized with oneAPI Deep Neural Network Library (oneDNN) to use the following CPU instructions in performance-critical operations:  AVX2 FMA\n",
      "To enable them in other operations, rebuild TensorFlow with the appropriate compiler flags.\n"
     ]
    }
   ],
   "source": [
    "# This is the size of our encoded representations\n",
    "encoding_dim = 100\n",
    "numb_of_features = pancan_rnaseq_df.shape[1]\n",
    "\n",
    "# Defining the 'Autoencoder' full model\n",
    "autoencoder = Sequential()\n",
    "autoencoder.add(Dense(encoding_dim, activation=\"relu\", input_shape=(numb_of_features, )))\n",
    "autoencoder.add(Dense(numb_of_features, activation=\"sigmoid\"))\n",
    "autoencoder.compile(optimizer=\"adam\", loss='mse')\n",
    "autoencoder.summary()"
   ]
  },
  {
   "cell_type": "code",
   "execution_count": 5,
   "metadata": {},
   "outputs": [
    {
     "name": "stdout",
     "output_type": "stream",
     "text": [
      "Epoch 1/10\n",
      "151/151 [==============================] - 2s 12ms/step - loss: 0.0268 - val_loss: 0.0175\n",
      "Epoch 2/10\n",
      "151/151 [==============================] - 2s 10ms/step - loss: 0.0156 - val_loss: 0.0141\n",
      "Epoch 3/10\n",
      "151/151 [==============================] - 2s 10ms/step - loss: 0.0134 - val_loss: 0.0128\n",
      "Epoch 4/10\n",
      "151/151 [==============================] - 2s 10ms/step - loss: 0.0124 - val_loss: 0.0120\n",
      "Epoch 5/10\n",
      "151/151 [==============================] - 2s 10ms/step - loss: 0.0117 - val_loss: 0.0115\n",
      "Epoch 6/10\n",
      "151/151 [==============================] - 2s 10ms/step - loss: 0.0113 - val_loss: 0.0111\n",
      "Epoch 7/10\n",
      "151/151 [==============================] - 1s 10ms/step - loss: 0.0109 - val_loss: 0.0109\n",
      "Epoch 8/10\n",
      "151/151 [==============================] - 1s 10ms/step - loss: 0.0107 - val_loss: 0.0107\n",
      "Epoch 9/10\n",
      "151/151 [==============================] - 2s 10ms/step - loss: 0.0106 - val_loss: 0.0106\n",
      "Epoch 10/10\n",
      "151/151 [==============================] - 2s 10ms/step - loss: 0.0105 - val_loss: 0.0106\n",
      "CPU times: user 54.3 s, sys: 17.1 s, total: 1min 11s\n",
      "Wall time: 17.2 s\n"
     ]
    }
   ],
   "source": [
    "%%time\n",
    "hist = autoencoder.fit(np.array(pancan_rnaseq_df_train), np.array(pancan_rnaseq_df_train),\n",
    "                       shuffle=True,\n",
    "                       epochs=10,\n",
    "                       batch_size=50,\n",
    "                       validation_split=0.2)"
   ]
  },
  {
   "cell_type": "code",
   "execution_count": 6,
   "metadata": {},
   "outputs": [
    {
     "data": {
      "text/plain": [
       "Text(0, 0.5, 'Reconstruction Loss')"
      ]
     },
     "execution_count": 6,
     "metadata": {},
     "output_type": "execute_result"
    },
    {
     "data": {
      "image/png": "[encoded data removed]",
      "text/plain": [
       "<Figure size 432x288 with 1 Axes>"
      ]
     },
     "metadata": {
      "needs_background": "light"
     },
     "output_type": "display_data"
    }
   ],
   "source": [
    "# Visualize training performance\n",
    "history_df = pd.DataFrame(hist.history)\n",
    "ax = history_df.plot()\n",
    "ax.set_xlabel('Epochs')\n",
    "ax.set_ylabel('Reconstruction Loss')"
   ]
  },
  {
   "cell_type": "code",
   "execution_count": 7,
   "metadata": {},
   "outputs": [
    {
     "data": {
      "text/html": [
       "<div>\n",
       "<style scoped>\n",
       "    .dataframe tbody tr th:only-of-type {\n",
       "        vertical-align: middle;\n",
       "    }\n",
       "\n",
       "    .dataframe tbody tr th {\n",
       "        vertical-align: top;\n",
       "    }\n",
       "\n",
       "    .dataframe thead th {\n",
       "        text-align: right;\n",
       "    }\n",
       "</style>\n",
       "<table border=\"1\" class=\"dataframe\">\n",
       "  <thead>\n",
       "    <tr style=\"text-align: right;\">\n",
       "      <th></th>\n",
       "      <th>RPS4Y1</th>\n",
       "      <th>XIST</th>\n",
       "      <th>KRT5</th>\n",
       "      <th>AGR2</th>\n",
       "      <th>CEACAM5</th>\n",
       "      <th>KRT6A</th>\n",
       "      <th>KRT14</th>\n",
       "      <th>CEACAM6</th>\n",
       "      <th>DDX3Y</th>\n",
       "      <th>KDM5D</th>\n",
       "      <th>...</th>\n",
       "      <th>FAM129A</th>\n",
       "      <th>C8orf48</th>\n",
       "      <th>CDK5R1</th>\n",
       "      <th>FAM81A</th>\n",
       "      <th>C13orf18</th>\n",
       "      <th>GDPD3</th>\n",
       "      <th>SMAGP</th>\n",
       "      <th>C2orf85</th>\n",
       "      <th>POU5F1B</th>\n",
       "      <th>CHST2</th>\n",
       "    </tr>\n",
       "  </thead>\n",
       "  <tbody>\n",
       "    <tr>\n",
       "      <th>TCGA-BR-8678-01</th>\n",
       "      <td>0.642725</td>\n",
       "      <td>0.074399</td>\n",
       "      <td>0.418074</td>\n",
       "      <td>0.038515</td>\n",
       "      <td>0.602472</td>\n",
       "      <td>0.484442</td>\n",
       "      <td>0.141261</td>\n",
       "      <td>0.616054</td>\n",
       "      <td>0.746804</td>\n",
       "      <td>0.700312</td>\n",
       "      <td>...</td>\n",
       "      <td>0.365411</td>\n",
       "      <td>0.238607</td>\n",
       "      <td>0.714132</td>\n",
       "      <td>0.721601</td>\n",
       "      <td>0.369461</td>\n",
       "      <td>0.53533</td>\n",
       "      <td>0.756406</td>\n",
       "      <td>0.112809</td>\n",
       "      <td>0.218428</td>\n",
       "      <td>0.371805</td>\n",
       "    </tr>\n",
       "  </tbody>\n",
       "</table>\n",
       "<p>1 rows × 5000 columns</p>\n",
       "</div>"
      ],
      "text/plain": [
       "                   RPS4Y1      XIST      KRT5      AGR2   CEACAM5     KRT6A  \\\n",
       "TCGA-BR-8678-01  0.642725  0.074399  0.418074  0.038515  0.602472  0.484442   \n",
       "\n",
       "                    KRT14   CEACAM6     DDX3Y     KDM5D  ...   FAM129A  \\\n",
       "TCGA-BR-8678-01  0.141261  0.616054  0.746804  0.700312  ...  0.365411   \n",
       "\n",
       "                  C8orf48    CDK5R1    FAM81A  C13orf18    GDPD3     SMAGP  \\\n",
       "TCGA-BR-8678-01  0.238607  0.714132  0.721601  0.369461  0.53533  0.756406   \n",
       "\n",
       "                  C2orf85   POU5F1B     CHST2  \n",
       "TCGA-BR-8678-01  0.112809  0.218428  0.371805  \n",
       "\n",
       "[1 rows x 5000 columns]"
      ]
     },
     "execution_count": 7,
     "metadata": {},
     "output_type": "execute_result"
    }
   ],
   "source": [
    "input_sample = pancan_rnaseq_df_test[:1]\n",
    "input_sample"
   ]
  },
  {
   "cell_type": "code",
   "execution_count": 8,
   "metadata": {},
   "outputs": [
    {
     "name": "stdout",
     "output_type": "stream",
     "text": [
      "1/1 [==============================] - 0s 59ms/step\n"
     ]
    },
    {
     "data": {
      "text/plain": [
       "array([[0.54662573, 0.11099564, 0.36999688, ..., 0.07557096, 0.39394298,\n",
       "        0.4923659 ]], dtype=float32)"
      ]
     },
     "execution_count": 8,
     "metadata": {},
     "output_type": "execute_result"
    }
   ],
   "source": [
    "reconstruction = autoencoder.predict([input_sample])\n",
    "reconstruction"
   ]
  },
  {
   "cell_type": "code",
   "execution_count": 9,
   "metadata": {},
   "outputs": [
    {
     "name": "stdout",
     "output_type": "stream",
     "text": [
      "327/327 [==============================] - 1s 3ms/step\n"
     ]
    },
    {
     "data": {
      "text/html": [
       "<div>\n",
       "<style scoped>\n",
       "    .dataframe tbody tr th:only-of-type {\n",
       "        vertical-align: middle;\n",
       "    }\n",
       "\n",
       "    .dataframe tbody tr th {\n",
       "        vertical-align: top;\n",
       "    }\n",
       "\n",
       "    .dataframe thead th {\n",
       "        text-align: right;\n",
       "    }\n",
       "</style>\n",
       "<table border=\"1\" class=\"dataframe\">\n",
       "  <thead>\n",
       "    <tr style=\"text-align: right;\">\n",
       "      <th></th>\n",
       "      <th>RPS4Y1</th>\n",
       "      <th>XIST</th>\n",
       "      <th>KRT5</th>\n",
       "      <th>AGR2</th>\n",
       "      <th>CEACAM5</th>\n",
       "      <th>KRT6A</th>\n",
       "      <th>KRT14</th>\n",
       "      <th>CEACAM6</th>\n",
       "      <th>DDX3Y</th>\n",
       "      <th>KDM5D</th>\n",
       "      <th>...</th>\n",
       "      <th>FAM129A</th>\n",
       "      <th>C8orf48</th>\n",
       "      <th>CDK5R1</th>\n",
       "      <th>FAM81A</th>\n",
       "      <th>C13orf18</th>\n",
       "      <th>GDPD3</th>\n",
       "      <th>SMAGP</th>\n",
       "      <th>C2orf85</th>\n",
       "      <th>POU5F1B</th>\n",
       "      <th>CHST2</th>\n",
       "    </tr>\n",
       "  </thead>\n",
       "  <tbody>\n",
       "    <tr>\n",
       "      <th>TCGA-02-0047-01</th>\n",
       "      <td>0.716592</td>\n",
       "      <td>0.158833</td>\n",
       "      <td>0.164157</td>\n",
       "      <td>0.042706</td>\n",
       "      <td>0.029318</td>\n",
       "      <td>0.045970</td>\n",
       "      <td>0.054415</td>\n",
       "      <td>0.042854</td>\n",
       "      <td>0.736217</td>\n",
       "      <td>0.662835</td>\n",
       "      <td>...</td>\n",
       "      <td>0.471082</td>\n",
       "      <td>0.507990</td>\n",
       "      <td>0.751724</td>\n",
       "      <td>0.678484</td>\n",
       "      <td>0.610952</td>\n",
       "      <td>0.320536</td>\n",
       "      <td>0.405733</td>\n",
       "      <td>0.489534</td>\n",
       "      <td>0.173163</td>\n",
       "      <td>0.627166</td>\n",
       "    </tr>\n",
       "    <tr>\n",
       "      <th>TCGA-02-0055-01</th>\n",
       "      <td>0.197564</td>\n",
       "      <td>0.461210</td>\n",
       "      <td>0.243186</td>\n",
       "      <td>0.142398</td>\n",
       "      <td>0.071382</td>\n",
       "      <td>0.161411</td>\n",
       "      <td>0.147527</td>\n",
       "      <td>0.104047</td>\n",
       "      <td>0.163256</td>\n",
       "      <td>0.127440</td>\n",
       "      <td>...</td>\n",
       "      <td>0.566981</td>\n",
       "      <td>0.575176</td>\n",
       "      <td>0.568489</td>\n",
       "      <td>0.638801</td>\n",
       "      <td>0.675789</td>\n",
       "      <td>0.320926</td>\n",
       "      <td>0.498030</td>\n",
       "      <td>0.171139</td>\n",
       "      <td>0.150648</td>\n",
       "      <td>0.648604</td>\n",
       "    </tr>\n",
       "    <tr>\n",
       "      <th>TCGA-02-2483-01</th>\n",
       "      <td>0.809183</td>\n",
       "      <td>0.102433</td>\n",
       "      <td>0.137863</td>\n",
       "      <td>0.035753</td>\n",
       "      <td>0.024791</td>\n",
       "      <td>0.044622</td>\n",
       "      <td>0.057372</td>\n",
       "      <td>0.037779</td>\n",
       "      <td>0.794367</td>\n",
       "      <td>0.720939</td>\n",
       "      <td>...</td>\n",
       "      <td>0.383839</td>\n",
       "      <td>0.422220</td>\n",
       "      <td>0.743454</td>\n",
       "      <td>0.470433</td>\n",
       "      <td>0.510058</td>\n",
       "      <td>0.345567</td>\n",
       "      <td>0.425171</td>\n",
       "      <td>0.483378</td>\n",
       "      <td>0.191127</td>\n",
       "      <td>0.586290</td>\n",
       "    </tr>\n",
       "    <tr>\n",
       "      <th>TCGA-02-2485-01</th>\n",
       "      <td>0.759603</td>\n",
       "      <td>0.156956</td>\n",
       "      <td>0.138075</td>\n",
       "      <td>0.048427</td>\n",
       "      <td>0.021640</td>\n",
       "      <td>0.034169</td>\n",
       "      <td>0.039846</td>\n",
       "      <td>0.025873</td>\n",
       "      <td>0.765736</td>\n",
       "      <td>0.700537</td>\n",
       "      <td>...</td>\n",
       "      <td>0.458330</td>\n",
       "      <td>0.518129</td>\n",
       "      <td>0.691878</td>\n",
       "      <td>0.654502</td>\n",
       "      <td>0.642431</td>\n",
       "      <td>0.339923</td>\n",
       "      <td>0.439109</td>\n",
       "      <td>0.455744</td>\n",
       "      <td>0.185963</td>\n",
       "      <td>0.656825</td>\n",
       "    </tr>\n",
       "    <tr>\n",
       "      <th>TCGA-02-2486-01</th>\n",
       "      <td>0.768964</td>\n",
       "      <td>0.084925</td>\n",
       "      <td>0.125807</td>\n",
       "      <td>0.069192</td>\n",
       "      <td>0.022647</td>\n",
       "      <td>0.041457</td>\n",
       "      <td>0.049400</td>\n",
       "      <td>0.051936</td>\n",
       "      <td>0.739441</td>\n",
       "      <td>0.682629</td>\n",
       "      <td>...</td>\n",
       "      <td>0.618535</td>\n",
       "      <td>0.518452</td>\n",
       "      <td>0.513147</td>\n",
       "      <td>0.590532</td>\n",
       "      <td>0.698707</td>\n",
       "      <td>0.287236</td>\n",
       "      <td>0.448243</td>\n",
       "      <td>0.216072</td>\n",
       "      <td>0.196219</td>\n",
       "      <td>0.643949</td>\n",
       "    </tr>\n",
       "  </tbody>\n",
       "</table>\n",
       "<p>5 rows × 5000 columns</p>\n",
       "</div>"
      ],
      "text/plain": [
       "                   RPS4Y1      XIST      KRT5      AGR2   CEACAM5     KRT6A  \\\n",
       "TCGA-02-0047-01  0.716592  0.158833  0.164157  0.042706  0.029318  0.045970   \n",
       "TCGA-02-0055-01  0.197564  0.461210  0.243186  0.142398  0.071382  0.161411   \n",
       "TCGA-02-2483-01  0.809183  0.102433  0.137863  0.035753  0.024791  0.044622   \n",
       "TCGA-02-2485-01  0.759603  0.156956  0.138075  0.048427  0.021640  0.034169   \n",
       "TCGA-02-2486-01  0.768964  0.084925  0.125807  0.069192  0.022647  0.041457   \n",
       "\n",
       "                    KRT14   CEACAM6     DDX3Y     KDM5D  ...   FAM129A  \\\n",
       "TCGA-02-0047-01  0.054415  0.042854  0.736217  0.662835  ...  0.471082   \n",
       "TCGA-02-0055-01  0.147527  0.104047  0.163256  0.127440  ...  0.566981   \n",
       "TCGA-02-2483-01  0.057372  0.037779  0.794367  0.720939  ...  0.383839   \n",
       "TCGA-02-2485-01  0.039846  0.025873  0.765736  0.700537  ...  0.458330   \n",
       "TCGA-02-2486-01  0.049400  0.051936  0.739441  0.682629  ...  0.618535   \n",
       "\n",
       "                  C8orf48    CDK5R1    FAM81A  C13orf18     GDPD3     SMAGP  \\\n",
       "TCGA-02-0047-01  0.507990  0.751724  0.678484  0.610952  0.320536  0.405733   \n",
       "TCGA-02-0055-01  0.575176  0.568489  0.638801  0.675789  0.320926  0.498030   \n",
       "TCGA-02-2483-01  0.422220  0.743454  0.470433  0.510058  0.345567  0.425171   \n",
       "TCGA-02-2485-01  0.518129  0.691878  0.654502  0.642431  0.339923  0.439109   \n",
       "TCGA-02-2486-01  0.518452  0.513147  0.590532  0.698707  0.287236  0.448243   \n",
       "\n",
       "                  C2orf85   POU5F1B     CHST2  \n",
       "TCGA-02-0047-01  0.489534  0.173163  0.627166  \n",
       "TCGA-02-0055-01  0.171139  0.150648  0.648604  \n",
       "TCGA-02-2483-01  0.483378  0.191127  0.586290  \n",
       "TCGA-02-2485-01  0.455744  0.185963  0.656825  \n",
       "TCGA-02-2486-01  0.216072  0.196219  0.643949  \n",
       "\n",
       "[5 rows x 5000 columns]"
      ]
     },
     "execution_count": 9,
     "metadata": {},
     "output_type": "execute_result"
    }
   ],
   "source": [
    "# Reconstruct input RNAseq\n",
    "reconstruction = autoencoder.predict(np.array(pancan_rnaseq_df))\n",
    "\n",
    "reconstructed_df = pd.DataFrame(reconstruction, index=pancan_rnaseq_df.index,\n",
    "                                columns=pancan_rnaseq_df.columns)\n",
    "\n",
    "reconstructed_df.head()"
   ]
  },
  {
   "cell_type": "code",
   "execution_count": 10,
   "metadata": {},
   "outputs": [
    {
     "data": {
      "text/html": [
       "<div>\n",
       "<style scoped>\n",
       "    .dataframe tbody tr th:only-of-type {\n",
       "        vertical-align: middle;\n",
       "    }\n",
       "\n",
       "    .dataframe tbody tr th {\n",
       "        vertical-align: top;\n",
       "    }\n",
       "\n",
       "    .dataframe thead th {\n",
       "        text-align: right;\n",
       "    }\n",
       "</style>\n",
       "<table border=\"1\" class=\"dataframe\">\n",
       "  <thead>\n",
       "    <tr style=\"text-align: right;\">\n",
       "      <th></th>\n",
       "      <th>gene mean</th>\n",
       "      <th>gene abs(sum)</th>\n",
       "    </tr>\n",
       "  </thead>\n",
       "  <tbody>\n",
       "    <tr>\n",
       "      <th>PPAN-P2RY11</th>\n",
       "      <td>-0.038516</td>\n",
       "      <td>0.238507</td>\n",
       "    </tr>\n",
       "    <tr>\n",
       "      <th>GSTT1</th>\n",
       "      <td>-0.001240</td>\n",
       "      <td>0.220185</td>\n",
       "    </tr>\n",
       "    <tr>\n",
       "      <th>GSTM1</th>\n",
       "      <td>-0.009530</td>\n",
       "      <td>0.218264</td>\n",
       "    </tr>\n",
       "    <tr>\n",
       "      <th>TBC1D3G</th>\n",
       "      <td>-0.006353</td>\n",
       "      <td>0.194752</td>\n",
       "    </tr>\n",
       "    <tr>\n",
       "      <th>RPS28</th>\n",
       "      <td>0.015523</td>\n",
       "      <td>0.169935</td>\n",
       "    </tr>\n",
       "  </tbody>\n",
       "</table>\n",
       "</div>"
      ],
      "text/plain": [
       "             gene mean  gene abs(sum)\n",
       "PPAN-P2RY11  -0.038516       0.238507\n",
       "GSTT1        -0.001240       0.220185\n",
       "GSTM1        -0.009530       0.218264\n",
       "TBC1D3G      -0.006353       0.194752\n",
       "RPS28         0.015523       0.169935"
      ]
     },
     "execution_count": 10,
     "metadata": {},
     "output_type": "execute_result"
    }
   ],
   "source": [
    "reconstruction_fidelity = reconstructed_df - pancan_rnaseq_df\n",
    "\n",
    "gene_mean = reconstruction_fidelity.mean(axis=0)\n",
    "gene_abssum = reconstruction_fidelity.abs().sum(axis=0).divide(pancan_rnaseq_df.shape[0])\n",
    "gene_summary = pd.DataFrame([gene_mean, gene_abssum], index=['gene mean', 'gene abs(sum)']).T\n",
    "gene_summary.sort_values(by='gene abs(sum)', ascending=False).head()"
   ]
  },
  {
   "cell_type": "code",
   "execution_count": 11,
   "metadata": {},
   "outputs": [
    {
     "name": "stderr",
     "output_type": "stream",
     "text": [
      "/Users/ukdevisetty/miniconda3/envs/condon_optimzation/lib/python3.9/site-packages/seaborn/_decorators.py:36: FutureWarning: Pass the following variables as keyword args: x, y. From version 0.12, the only valid positional argument will be `data`, and passing other arguments without an explicit keyword will result in an error or misinterpretation.\n",
      "  warnings.warn(\n"
     ]
    },
    {
     "data": {
      "image/png": "[encoded data removed]",
      "text/plain": [
       "<Figure size 432x432 with 3 Axes>"
      ]
     },
     "metadata": {
      "needs_background": "light"
     },
     "output_type": "display_data"
    }
   ],
   "source": [
    "# Mean of gene reconstruction vs. absolute reconstructed difference per sample\n",
    "g = sns.jointplot('gene mean', 'gene abs(sum)', data=gene_summary)"
   ]
  },
  {
   "cell_type": "code",
   "execution_count": null,
   "metadata": {},
   "outputs": [],
   "source": []
  }
 ],
 "metadata": {
  "kernelspec": {
   "display_name": "Python 3.9.12 ('condon_optimzation')",
   "language": "python",
   "name": "python3"
  },
  "language_info": {
   "codemirror_mode": {
    "name": "ipython",
    "version": 3
   },
   "file_extension": ".py",
   "mimetype": "text/x-python",
   "name": "python",
   "nbconvert_exporter": "python",
   "pygments_lexer": "ipython3",
   "version": "3.9.12"
  },
  "vscode": {
   "interpreter": {
    "hash": "6c9ad104059c90d12f50de5b72966553aaf7f663dcb89a78d88d441df52afa79"
   }
  }
 },
 "nbformat": 4,
 "nbformat_minor": 2
}
